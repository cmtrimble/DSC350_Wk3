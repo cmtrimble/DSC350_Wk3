{
 "cells": [
  {
   "metadata": {},
   "cell_type": "markdown",
   "source": [
    "Title: DSC350 Week 3 Exercises  \n",
    "Author: Stefanie Molin  \n",
    "Date: 13 September 2024  \n",
    "Modified By: Caleb Trimble  \n",
    "Description: This program ingests a csv related to earthquakes and tsunamis. It expresses various different statistical elements related to different locations impacted by events and creates fluidity through parsing and additional columns.\n",
    "\n",
    "Codes in this program have been adapted from Hands-On Data Analysis with Pandas - Second Edition (Molin S., 2021)"
   ],
   "id": "481a82ca135cf8ca"
  },
  {
   "cell_type": "code",
   "id": "initial_id",
   "metadata": {
    "collapsed": true,
    "ExecuteTime": {
     "end_time": "2024-09-13T23:05:08.014232Z",
     "start_time": "2024-09-13T23:05:07.952997Z"
    }
   },
   "source": [
    "import pandas as pd\n",
    "\n",
    "df = pd.read_csv('data\\\\parsed.csv')  # Directs Pandas to read the csv for analysis. \n",
    "df.columns\n"
   ],
   "outputs": [
    {
     "data": {
      "text/plain": [
       "Index(['alert', 'cdi', 'code', 'detail', 'dmin', 'felt', 'gap', 'ids', 'mag',\n",
       "       'magType', 'mmi', 'net', 'nst', 'place', 'rms', 'sig', 'sources',\n",
       "       'status', 'time', 'title', 'tsunami', 'type', 'types', 'tz', 'updated',\n",
       "       'url', 'parsed_place'],\n",
       "      dtype='object')"
      ]
     },
     "execution_count": 25,
     "metadata": {},
     "output_type": "execute_result"
    }
   ],
   "execution_count": 25
  },
  {
   "metadata": {
    "ExecuteTime": {
     "end_time": "2024-09-13T22:34:28.497021Z",
     "start_time": "2024-09-13T22:34:28.488308Z"
    }
   },
   "cell_type": "code",
   "source": [
    "# Subsets the dataframe using label-based lookups. \n",
    "japan_mb_df = df.loc[\n",
    "    (df.place.str.contains('Japan'))  # Defines the label to look up in the 'place' column.\n",
    "    & (df.magType == 'mb')  # Defines the type of magnitude to look up.\n",
    "]\n",
    "percentile_95 = japan_mb_df['mag'].quantile(0.95)  # Directs the program to find the 95th percentile of earthquakes in Japan with a magType of 'mb'\n",
    "print(f\"The 95th percentile of earthquake magnitude in Japan (mb) is: {percentile_95}\")\n",
    "print()"
   ],
   "id": "b33c0c2a56e1cd17",
   "outputs": [
    {
     "name": "stdout",
     "output_type": "stream",
     "text": [
      "The 95th percentile of earthquake magnitude in Japan (mb) is: 4.9\n",
      "\n"
     ]
    }
   ],
   "execution_count": 12
  },
  {
   "metadata": {
    "ExecuteTime": {
     "end_time": "2024-09-13T22:34:28.506087Z",
     "start_time": "2024-09-13T22:34:28.497021Z"
    }
   },
   "cell_type": "code",
   "source": [
    "indo_df = df.loc[(df.place.str.contains('Indonesia'))]\n",
    "total_earthquakes = len(indo_df)  # Looks up total number of entries in Indonesia.\n",
    "earthquakes_with_tsunamis = len(indo_df[indo_df.tsunami == 1])  # Looks up the total number for Indonesia that also have tsunamis.\n",
    "percentage = (earthquakes_with_tsunamis/total_earthquakes) * 100  # Calculates the percentage of earthquakes that coincided with tsunamis.\n",
    "print(f\"The percentage of earthquakes with tsunamis is: {percentage: .2f}\")\n",
    "print()"
   ],
   "id": "e815f33203ff67b9",
   "outputs": [
    {
     "name": "stdout",
     "output_type": "stream",
     "text": [
      "The percentage of earthquakes with tsunamis is:  23.13\n",
      "\n"
     ]
    }
   ],
   "execution_count": 13
  },
  {
   "metadata": {
    "ExecuteTime": {
     "end_time": "2024-09-13T22:34:28.531322Z",
     "start_time": "2024-09-13T22:34:28.507085Z"
    }
   },
   "cell_type": "code",
   "source": [
    "nevada_df = df.loc[df.place.str.contains('Nevada')]\n",
    "sum_stats = nevada_df.describe()  # .describe provides summary statistics for the defined place.\n",
    "print(sum_stats)\n",
    "print()"
   ],
   "id": "d68ae930d1d2d130",
   "outputs": [
    {
     "name": "stdout",
     "output_type": "stream",
     "text": [
      "             cdi        dmin       felt         gap         mag   mmi  \\\n",
      "count  15.000000  677.000000  15.000000  677.000000  677.000000  1.00   \n",
      "mean    2.440000    0.166982   2.400000  154.029527    0.491728  2.84   \n",
      "std     0.501142    0.166400   4.626013   68.769713    0.689560   NaN   \n",
      "min     2.000000    0.001000   1.000000   29.140000   -0.500000  2.84   \n",
      "25%     2.000000    0.054000   1.000000   97.670000   -0.100000  2.84   \n",
      "50%     2.200000    0.113000   1.000000  149.550000    0.400000  2.84   \n",
      "75%     2.900000    0.234000   1.000000  200.470000    0.900000  2.84   \n",
      "max     3.300000    1.414000  19.000000  355.910000    2.900000  2.84   \n",
      "\n",
      "              nst         rms         sig          time  tsunami     tz  \\\n",
      "count  677.000000  677.000000  677.000000  6.770000e+02    677.0  677.0   \n",
      "mean    12.608567    0.151909   10.688331  1.538314e+12      0.0 -480.0   \n",
      "std      9.890620    0.084742   19.252727  5.954070e+08      0.0    0.0   \n",
      "min      3.000000    0.000500    0.000000  1.537247e+12      0.0 -480.0   \n",
      "25%      6.000000    0.106900    0.000000  1.537854e+12      0.0 -480.0   \n",
      "50%      9.000000    0.146300    2.000000  1.538280e+12      0.0 -480.0   \n",
      "75%     16.000000    0.186700   12.000000  1.538821e+12      0.0 -480.0   \n",
      "max     61.000000    0.863400  129.000000  1.539461e+12      0.0 -480.0   \n",
      "\n",
      "            updated  \n",
      "count  6.770000e+02  \n",
      "mean   1.538402e+12  \n",
      "std    6.000267e+08  \n",
      "min    1.537307e+12  \n",
      "25%    1.537928e+12  \n",
      "50%    1.538428e+12  \n",
      "75%    1.538878e+12  \n",
      "max    1.539483e+12  \n",
      "\n"
     ]
    }
   ],
   "execution_count": 14
  },
  {
   "metadata": {
    "ExecuteTime": {
     "end_time": "2024-09-13T22:34:28.600977Z",
     "start_time": "2024-09-13T22:34:28.532324Z"
    }
   },
   "cell_type": "code",
   "source": [
    "df.place.str.extract(r', (.*$)')[0].sort_values().unique()  # Uses a regular expression to extract everything after the comma in the 'place' column.\n",
    "#  Replaces patterns in the 'place' column with uniform place names in 'parsed_place'.\n",
    "df['parsed_place'] = df.place.str.replace(\n",
    "    r'.* of ', '', regex=True \n",
    ").str.replace(\n",
    "    'the ', '' \n",
    ").str.replace(\n",
    "    r'CA$', 'California', regex=True \n",
    ").str.replace(\n",
    "    r'NV$', 'Nevada', regex=True \n",
    ").str.replace(\n",
    "    r'MX$', 'Mexico', regex=True \n",
    ").str.replace(\n",
    "    r' region$', '', regex=True \n",
    ").str.replace(\n",
    "    'northern ', '' \n",
    ").str.replace(\n",
    "    'Fiji Islands', 'Fiji' \n",
    ").str.replace(\n",
    "    r'^.*, ', '', regex=True \n",
    ").str.strip() # remove any extra spaces\n",
    "df.parsed_place.sort_values().unique()\n"
   ],
   "id": "7fd8c6b9b1158b76",
   "outputs": [
    {
     "data": {
      "text/plain": [
       "array(['Afghanistan', 'Alaska', 'Argentina', 'Arizona', 'Arkansas',\n",
       "       'Ascension Island', 'Australia', 'Azerbaijan', 'Balleny Islands',\n",
       "       'Barbuda', 'Bolivia', 'British Virgin Islands', 'Burma',\n",
       "       'California', 'Canada', 'Carlsberg Ridge',\n",
       "       'Central East Pacific Rise', 'Central Mid-Atlantic Ridge', 'Chile',\n",
       "       'China', 'Christmas Island', 'Colombia', 'Colorado', 'Costa Rica',\n",
       "       'Dominican Republic', 'East Timor', 'Ecuador', 'El Salvador',\n",
       "       'Fiji', 'Greece', 'Greenland', 'Guam', 'Guatemala', 'Haiti',\n",
       "       'Hawaii', 'Honduras', 'Idaho', 'Illinois', 'India',\n",
       "       'Indian Ocean Triple Junction', 'Indonesia', 'Iran', 'Iraq',\n",
       "       'Italy', 'Jamaica', 'Japan', 'Kansas', 'Kentucky',\n",
       "       'Kermadec Islands', 'Kuril Islands', 'Kyrgyzstan', 'Martinique',\n",
       "       'Mauritius', 'Mayotte', 'Mexico', 'Mid-Indian Ridge', 'Missouri',\n",
       "       'Montana', 'Nevada', 'New Caledonia', 'New Hampshire',\n",
       "       'New Mexico', 'New Zealand', 'Nicaragua', 'North Carolina',\n",
       "       'Northern East Pacific Rise', 'Northern Mariana Islands',\n",
       "       'Northern Mid-Atlantic Ridge', 'Oklahoma', 'Oregon',\n",
       "       'Pacific-Antarctic Ridge', 'Pakistan', 'Papua New Guinea', 'Peru',\n",
       "       'Philippines', 'Prince Edward Islands', 'Puerto Rico',\n",
       "       'Queen Charlotte Islands', 'Romania', 'Russia',\n",
       "       'Saint Eustatius and Saba', 'Saint Helena', 'Socotra',\n",
       "       'Solomon Islands', 'Somalia', 'South Africa', 'South Carolina',\n",
       "       'South Georgia and South Sandwich Islands',\n",
       "       'South Sandwich Islands', 'Southeast Indian Ridge',\n",
       "       'Southern East Pacific Rise', 'Southern Mid-Atlantic Ridge',\n",
       "       'Southwest Indian Ridge', 'Sumatra', 'Taiwan', 'Tajikistan',\n",
       "       'Tennessee', 'Texas', 'Tonga', 'Turkey', 'U.S. Virgin Islands',\n",
       "       'Utah', 'Uzbekistan', 'Vanuatu', 'Vermont', 'Washington',\n",
       "       'Western Indian-Antarctic Ridge', 'Western Xizang', 'Wyoming',\n",
       "       'Yemen'], dtype=object)"
      ]
     },
     "execution_count": 15,
     "metadata": {},
     "output_type": "execute_result"
    }
   ],
   "execution_count": 15
  },
  {
   "metadata": {},
   "cell_type": "markdown",
   "source": "While not required for the assignment, without creating a parsed place column we could have significant issues when attempting to achieve accurate results for Ring of Fire statistics.",
   "id": "28b587c1989aa8a9"
  },
  {
   "metadata": {
    "ExecuteTime": {
     "end_time": "2024-09-13T23:37:25.079358Z",
     "start_time": "2024-09-13T23:37:25.060271Z"
    }
   },
   "cell_type": "code",
   "source": [
    "# Defines the places within the ring of fire.\n",
    "ring_of_fire_locations = [\n",
    "    'Alaska', 'Antarctic', 'Bolivia', 'California', 'Canada', 'Chile', 'Costa Rica', 'Ecuador',\n",
    "    'Fiji', 'Guatemala', 'Indonesia', 'Japan', 'Kermadec Islands', 'Mexico', 'New Zealand',\n",
    "    'Peru', 'Philippines', 'Russia', 'Taiwan', 'Tonga', 'Washington'\n",
    "]\n",
    "def is_ring_of_fire(parsed_place):\n",
    "# Searches 'parsed_place' column and compares it to the list of places in the Ring of Fire.\n",
    "# Returns TRUE if the place is in the Ring of Fire and FALSE if it's not found in the list.\n",
    "    return any(location in parsed_place for location in ring_of_fire_locations)\n",
    "\n",
    "# Creates ring_of_fire column by applying the is_ring_of_fire function to the 'parsed_place' column.\n",
    "df['ring_of_fire'] = df['parsed_place'].apply(is_ring_of_fire) \n",
    "print(df.head())"
   ],
   "id": "d9b13f4645bc209f",
   "outputs": [
    {
     "name": "stdout",
     "output_type": "stream",
     "text": [
      "  alert  cdi      code                                             detail  \\\n",
      "0   NaN  NaN  37389218  https://earthquake.usgs.gov/fdsnws/event/1/que...   \n",
      "1   NaN  NaN  37389202  https://earthquake.usgs.gov/fdsnws/event/1/que...   \n",
      "2   NaN  4.4  37389194  https://earthquake.usgs.gov/fdsnws/event/1/que...   \n",
      "3   NaN  NaN  37389186  https://earthquake.usgs.gov/fdsnws/event/1/que...   \n",
      "4   NaN  NaN  73096941  https://earthquake.usgs.gov/fdsnws/event/1/que...   \n",
      "\n",
      "       dmin  felt    gap           ids   mag magType  ...           time  \\\n",
      "0  0.008693   NaN   85.0  ,ci37389218,  1.35      ml  ...  1539475168010   \n",
      "1  0.020030   NaN   79.0  ,ci37389202,  1.29      ml  ...  1539475129610   \n",
      "2  0.021370  28.0   21.0  ,ci37389194,  3.42      ml  ...  1539475062610   \n",
      "3  0.026180   NaN   39.0  ,ci37389186,  0.44      ml  ...  1539474978070   \n",
      "4  0.077990   NaN  192.0  ,nc73096941,  2.16      md  ...  1539474716050   \n",
      "\n",
      "                           title  tsunami        type  \\\n",
      "0  M 1.4 - 9km NE of Aguanga, CA        0  earthquake   \n",
      "1  M 1.3 - 9km NE of Aguanga, CA        0  earthquake   \n",
      "2  M 3.4 - 8km NE of Aguanga, CA        0  earthquake   \n",
      "3  M 0.4 - 9km NE of Aguanga, CA        0  earthquake   \n",
      "4  M 2.2 - 10km NW of Avenal, CA        0  earthquake   \n",
      "\n",
      "                                               types     tz        updated  \\\n",
      "0         ,geoserve,nearby-cities,origin,phase-data, -480.0  1539475395144   \n",
      "1         ,geoserve,nearby-cities,origin,phase-data, -480.0  1539475253925   \n",
      "2  ,dyfi,focal-mechanism,geoserve,nearby-cities,o... -480.0  1539536756176   \n",
      "3         ,geoserve,nearby-cities,origin,phase-data, -480.0  1539475196167   \n",
      "4  ,geoserve,nearby-cities,origin,phase-data,scit... -480.0  1539477547926   \n",
      "\n",
      "                                                 url  parsed_place  \\\n",
      "0  https://earthquake.usgs.gov/earthquakes/eventp...    California   \n",
      "1  https://earthquake.usgs.gov/earthquakes/eventp...    California   \n",
      "2  https://earthquake.usgs.gov/earthquakes/eventp...    California   \n",
      "3  https://earthquake.usgs.gov/earthquakes/eventp...    California   \n",
      "4  https://earthquake.usgs.gov/earthquakes/eventp...    California   \n",
      "\n",
      "  ring_of_fire  \n",
      "0         True  \n",
      "1         True  \n",
      "2         True  \n",
      "3         True  \n",
      "4         True  \n",
      "\n",
      "[5 rows x 28 columns]\n"
     ]
    }
   ],
   "execution_count": 28
  },
  {
   "metadata": {
    "ExecuteTime": {
     "end_time": "2024-09-13T23:50:14.315190Z",
     "start_time": "2024-09-13T23:50:14.309897Z"
    }
   },
   "cell_type": "code",
   "source": [
    "# Counts number of entries that are in the 'ring_of_fire' column.\n",
    "rof_earthquakes = df['ring_of_fire'].sum()\n",
    "# Counts total number of entries in the dataframe and subtracts the number of Ring of Fire earthquakes from it.\n",
    "non_rof_earthquakes = len(df) - rof_earthquakes\n",
    "# Prints results for Ring of Fire earthquakes and earthquakes outside of the Ring of Fire.\n",
    "print(f\"Number of Ring of Fire Earthquakes: {rof_earthquakes}\")\n",
    "print(f\"Number of Earthquakes outside of the Ring of Fire: {non_rof_earthquakes}\")\n"
   ],
   "id": "6e96fde1d4552c50",
   "outputs": [
    {
     "name": "stdout",
     "output_type": "stream",
     "text": [
      "Number of Ring of Fire Earthquakes: 7189\n",
      "Number of Earthquakes outside of the Ring of Fire: 2143\n"
     ]
    }
   ],
   "execution_count": 29
  },
  {
   "metadata": {
    "ExecuteTime": {
     "end_time": "2024-09-13T23:56:40.469714Z",
     "start_time": "2024-09-13T23:56:40.462102Z"
    }
   },
   "cell_type": "code",
   "source": [
    "# Creates dataframe for Ring of Fire specific events.\n",
    "ring_of_fire_df = df[df['ring_of_fire']]\n",
    "# References Ring of Fire dataframe and counts entries that have a tsunami correlation.\n",
    "rof_tsunamis = ring_of_fire_df['tsunami'].sum()  \n",
    "print(f\"Number of Ring of Fire Tsunamis: {rof_tsunamis}\")\n"
   ],
   "id": "7dfb761582887af0",
   "outputs": [
    {
     "name": "stdout",
     "output_type": "stream",
     "text": [
      "Number of Ring of Fire Tsunamis: 45\n"
     ]
    }
   ],
   "execution_count": 30
  },
  {
   "metadata": {},
   "cell_type": "markdown",
   "source": "",
   "id": "44deb3c87c3703ec"
  }
 ],
 "metadata": {
  "kernelspec": {
   "display_name": "Python 3",
   "language": "python",
   "name": "python3"
  },
  "language_info": {
   "codemirror_mode": {
    "name": "ipython",
    "version": 2
   },
   "file_extension": ".py",
   "mimetype": "text/x-python",
   "name": "python",
   "nbconvert_exporter": "python",
   "pygments_lexer": "ipython2",
   "version": "2.7.6"
  }
 },
 "nbformat": 4,
 "nbformat_minor": 5
}
